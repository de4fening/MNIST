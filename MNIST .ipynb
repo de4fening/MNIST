{
 "cells": [
  {
   "cell_type": "code",
   "execution_count": 1,
   "metadata": {
    "ExecuteTime": {
     "end_time": "2020-12-11T11:42:04.667280Z",
     "start_time": "2020-12-11T11:42:03.472142Z"
    }
   },
   "outputs": [
    {
     "data": {
      "text/html": [
       "        <script type=\"text/javascript\">\n",
       "        window.PlotlyConfig = {MathJaxConfig: 'local'};\n",
       "        if (window.MathJax) {MathJax.Hub.Config({SVG: {font: \"STIX-Web\"}});}\n",
       "        if (typeof require !== 'undefined') {\n",
       "        require.undef(\"plotly\");\n",
       "        requirejs.config({\n",
       "            paths: {\n",
       "                'plotly': ['https://cdn.plot.ly/plotly-latest.min']\n",
       "            }\n",
       "        });\n",
       "        require(['plotly'], function(Plotly) {\n",
       "            window._Plotly = Plotly;\n",
       "        });\n",
       "        }\n",
       "        </script>\n",
       "        "
      ]
     },
     "metadata": {},
     "output_type": "display_data"
    }
   ],
   "source": [
    "import numpy as np\n",
    "import pandas as pd\n",
    "import matplotlib.pyplot as plt\n",
    "import seaborn as sns\n",
    "import chart_studio.plotly as py\n",
    "import cufflinks as cf\n",
    "from plotly.offline import download_plotlyjs,init_notebook_mode,plot,iplot\n",
    "\n",
    "from sklearn.model_selection import train_test_split\n",
    "\n",
    "\n",
    "init_notebook_mode(connected=True)"
   ]
  },
  {
   "cell_type": "markdown",
   "metadata": {},
   "source": [
    "# Preprocessing"
   ]
  },
  {
   "cell_type": "markdown",
   "metadata": {},
   "source": [
    "## Loading and visualizing the data"
   ]
  },
  {
   "cell_type": "code",
   "execution_count": 2,
   "metadata": {
    "ExecuteTime": {
     "end_time": "2020-12-11T11:42:07.917203Z",
     "start_time": "2020-12-11T11:42:04.668605Z"
    }
   },
   "outputs": [],
   "source": [
    "train_df = pd.read_csv('mnist_train.csv')\n",
    "test_df = pd.read_csv('mnist_test.csv')"
   ]
  },
  {
   "cell_type": "markdown",
   "metadata": {},
   "source": [
    "## Preparing the data"
   ]
  },
  {
   "cell_type": "code",
   "execution_count": 3,
   "metadata": {
    "ExecuteTime": {
     "end_time": "2020-12-11T11:42:08.009864Z",
     "start_time": "2020-12-11T11:42:07.918971Z"
    }
   },
   "outputs": [],
   "source": [
    "x = train_df[train_df.columns[1:]] \n",
    "y = train_df['label']"
   ]
  },
  {
   "cell_type": "markdown",
   "metadata": {},
   "source": [
    "## Split data into a train / test dataset"
   ]
  },
  {
   "cell_type": "code",
   "execution_count": 4,
   "metadata": {
    "ExecuteTime": {
     "end_time": "2020-12-11T11:42:08.275445Z",
     "start_time": "2020-12-11T11:42:08.012325Z"
    }
   },
   "outputs": [],
   "source": [
    "x_train, x_validation, y_train, y_validation = train_test_split(x, y, test_size = 0.2)"
   ]
  },
  {
   "cell_type": "markdown",
   "metadata": {},
   "source": [
    "# Logistic Regression"
   ]
  },
  {
   "cell_type": "code",
   "execution_count": 5,
   "metadata": {
    "ExecuteTime": {
     "end_time": "2020-12-11T11:42:08.305309Z",
     "start_time": "2020-12-11T11:42:08.278409Z"
    }
   },
   "outputs": [],
   "source": [
    "from sklearn.linear_model import LogisticRegression"
   ]
  },
  {
   "cell_type": "markdown",
   "metadata": {},
   "source": [
    "## Train logistic regression model"
   ]
  },
  {
   "cell_type": "code",
   "execution_count": 6,
   "metadata": {
    "ExecuteTime": {
     "end_time": "2020-12-11T11:42:24.334391Z",
     "start_time": "2020-12-11T11:42:08.307079Z"
    }
   },
   "outputs": [
    {
     "name": "stderr",
     "output_type": "stream",
     "text": [
      "/home/aleksandr/anaconda3/lib/python3.7/site-packages/sklearn/linear_model/_logistic.py:764: ConvergenceWarning:\n",
      "\n",
      "lbfgs failed to converge (status=1):\n",
      "STOP: TOTAL NO. of ITERATIONS REACHED LIMIT.\n",
      "\n",
      "Increase the number of iterations (max_iter) or scale the data as shown in:\n",
      "    https://scikit-learn.org/stable/modules/preprocessing.html\n",
      "Please also refer to the documentation for alternative solver options:\n",
      "    https://scikit-learn.org/stable/modules/linear_model.html#logistic-regression\n",
      "\n"
     ]
    },
    {
     "data": {
      "text/plain": [
       "LogisticRegression()"
      ]
     },
     "execution_count": 6,
     "metadata": {},
     "output_type": "execute_result"
    }
   ],
   "source": [
    "logmodel = LogisticRegression()\n",
    "logmodel.fit(x_train,y_train)"
   ]
  },
  {
   "cell_type": "markdown",
   "metadata": {},
   "source": [
    "## Use the model to predict"
   ]
  },
  {
   "cell_type": "code",
   "execution_count": 8,
   "metadata": {
    "ExecuteTime": {
     "end_time": "2020-12-11T11:42:24.467130Z",
     "start_time": "2020-12-11T11:42:24.345367Z"
    }
   },
   "outputs": [],
   "source": [
    "predictions = logmodel.predict(x_validation)"
   ]
  },
  {
   "cell_type": "markdown",
   "metadata": {},
   "source": [
    "## Evaluate the accuracy of the model"
   ]
  },
  {
   "cell_type": "code",
   "execution_count": 9,
   "metadata": {
    "ExecuteTime": {
     "end_time": "2020-12-11T11:42:24.477107Z",
     "start_time": "2020-12-11T11:42:24.471957Z"
    }
   },
   "outputs": [],
   "source": [
    "from sklearn.metrics import classification_report\n",
    "from sklearn.metrics import confusion_matrix"
   ]
  },
  {
   "cell_type": "code",
   "execution_count": 10,
   "metadata": {
    "ExecuteTime": {
     "end_time": "2020-12-11T11:42:24.574319Z",
     "start_time": "2020-12-11T11:42:24.480987Z"
    }
   },
   "outputs": [
    {
     "name": "stdout",
     "output_type": "stream",
     "text": [
      "              precision    recall  f1-score   support\n",
      "\n",
      "           0       0.94      0.96      0.95      1181\n",
      "           1       0.95      0.97      0.96      1325\n",
      "           2       0.91      0.90      0.90      1204\n",
      "           3       0.91      0.88      0.89      1234\n",
      "           4       0.93      0.92      0.93      1181\n",
      "           5       0.89      0.87      0.88      1093\n",
      "           6       0.92      0.96      0.94      1173\n",
      "           7       0.94      0.92      0.93      1230\n",
      "           8       0.88      0.89      0.88      1184\n",
      "           9       0.90      0.90      0.90      1195\n",
      "\n",
      "    accuracy                           0.92     12000\n",
      "   macro avg       0.92      0.92      0.92     12000\n",
      "weighted avg       0.92      0.92      0.92     12000\n",
      "\n",
      "---------------\n",
      "[[1137    0    5    1    1   14   13    2    6    2]\n",
      " [   0 1282    9    4    1    4    2    3   15    5]\n",
      " [   9   12 1080   23   15    4   15    8   32    6]\n",
      " [   4    6   36 1083    1   47    7   14   23   13]\n",
      " [   7    8    5    2 1092    5   14    3    8   37]\n",
      " [  24    2    7   27    7  952   29    2   34    9]\n",
      " [   8    3   13    0    4   13 1122    1    9    0]\n",
      " [   6    6   14    7   14    2    1 1137    5   38]\n",
      " [  13   27   16   21    6   24   10    2 1050   15]\n",
      " [   2    3    4   19   32    4    2   34   14 1081]]\n"
     ]
    }
   ],
   "source": [
    "print(classification_report(y_validation,predictions))\n",
    "print('---------------')\n",
    "print(confusion_matrix(y_validation,predictions))"
   ]
  },
  {
   "cell_type": "markdown",
   "metadata": {},
   "source": [
    "# K-Nearest Neighbors (KNN)"
   ]
  },
  {
   "cell_type": "markdown",
   "metadata": {},
   "source": [
    "## Standarizing data"
   ]
  },
  {
   "cell_type": "code",
   "execution_count": 11,
   "metadata": {
    "ExecuteTime": {
     "end_time": "2020-12-11T11:42:24.579932Z",
     "start_time": "2020-12-11T11:42:24.576627Z"
    }
   },
   "outputs": [],
   "source": [
    "from sklearn.preprocessing import StandardScaler\n",
    "from sklearn.model_selection import train_test_split"
   ]
  },
  {
   "cell_type": "code",
   "execution_count": 12,
   "metadata": {
    "ExecuteTime": {
     "end_time": "2020-12-11T11:42:25.833335Z",
     "start_time": "2020-12-11T11:42:24.582645Z"
    }
   },
   "outputs": [],
   "source": [
    "scaler = StandardScaler()\n",
    "scaler.fit(train_df.drop('label', axis = 1))\n",
    "scaled_features = scaler.transform(train_df.drop('label', axis = 1))\n",
    "df_feat = pd.DataFrame(scaled_features, columns = train_df.columns[1:])\n",
    "x = df_feat[train_df.columns[1:]]"
   ]
  },
  {
   "cell_type": "code",
   "execution_count": 13,
   "metadata": {
    "ExecuteTime": {
     "end_time": "2020-12-11T11:42:26.099904Z",
     "start_time": "2020-12-11T11:42:25.834913Z"
    }
   },
   "outputs": [],
   "source": [
    "x_train, x_validation, y_train, y_validation = train_test_split(x, y, test_size = 0.2)"
   ]
  },
  {
   "cell_type": "markdown",
   "metadata": {},
   "source": [
    "## Train KNN model"
   ]
  },
  {
   "cell_type": "code",
   "execution_count": 14,
   "metadata": {
    "ExecuteTime": {
     "end_time": "2020-12-11T11:42:26.120333Z",
     "start_time": "2020-12-11T11:42:26.101947Z"
    }
   },
   "outputs": [],
   "source": [
    "from sklearn.neighbors import KNeighborsClassifier"
   ]
  },
  {
   "cell_type": "code",
   "execution_count": 15,
   "metadata": {
    "ExecuteTime": {
     "end_time": "2020-12-11T11:42:33.456606Z",
     "start_time": "2020-12-11T11:42:26.121894Z"
    }
   },
   "outputs": [
    {
     "data": {
      "text/plain": [
       "KNeighborsClassifier(n_neighbors=1)"
      ]
     },
     "execution_count": 15,
     "metadata": {},
     "output_type": "execute_result"
    }
   ],
   "source": [
    "knn = KNeighborsClassifier(n_neighbors = 1)\n",
    "knn.fit(x_train, y_train)"
   ]
  },
  {
   "cell_type": "markdown",
   "metadata": {},
   "source": [
    "## Evaluate the model"
   ]
  },
  {
   "cell_type": "code",
   "execution_count": 16,
   "metadata": {
    "ExecuteTime": {
     "end_time": "2020-12-11T11:53:07.917408Z",
     "start_time": "2020-12-11T11:42:33.457891Z"
    }
   },
   "outputs": [],
   "source": [
    "predictions = knn.predict(x_validation)"
   ]
  },
  {
   "cell_type": "code",
   "execution_count": 17,
   "metadata": {
    "ExecuteTime": {
     "end_time": "2020-12-11T11:53:07.950889Z",
     "start_time": "2020-12-11T11:53:07.918726Z"
    }
   },
   "outputs": [
    {
     "name": "stdout",
     "output_type": "stream",
     "text": [
      "              precision    recall  f1-score   support\n",
      "\n",
      "           0       0.97      0.98      0.97      1158\n",
      "           1       0.96      0.99      0.98      1339\n",
      "           2       0.95      0.94      0.95      1185\n",
      "           3       0.94      0.93      0.94      1258\n",
      "           4       0.96      0.92      0.94      1229\n",
      "           5       0.92      0.93      0.93      1081\n",
      "           6       0.96      0.97      0.96      1156\n",
      "           7       0.93      0.93      0.93      1231\n",
      "           8       0.96      0.91      0.93      1186\n",
      "           9       0.89      0.93      0.91      1177\n",
      "\n",
      "    accuracy                           0.94     12000\n",
      "   macro avg       0.94      0.94      0.94     12000\n",
      "weighted avg       0.94      0.94      0.94     12000\n",
      "\n",
      "---------\n",
      "[[1136    0    1    2    1    4   11    1    1    1]\n",
      " [   0 1327    5    0    1    1    0    4    0    1]\n",
      " [  10    6 1117   14    6    2    8    8   10    4]\n",
      " [   2    0   21 1173    0   23    1   22   12    4]\n",
      " [   1   15    7    1 1133    2    6    7    1   56]\n",
      " [   2    3    0   34    1 1008   13    5    9    6]\n",
      " [  16    2    2    0    2   13 1117    0    4    0]\n",
      " [   1   11    7    3   14    1    0 1147    2   45]\n",
      " [   6    9    9   18    6   33    7    2 1079   17]\n",
      " [   1    3    5    5   20    5    0   35    6 1097]]\n"
     ]
    }
   ],
   "source": [
    "print(classification_report(y_validation,predictions))\n",
    "print('---------')\n",
    "print(confusion_matrix(y_validation,predictions))"
   ]
  },
  {
   "cell_type": "markdown",
   "metadata": {},
   "source": [
    "# Decision Tree"
   ]
  },
  {
   "cell_type": "markdown",
   "metadata": {},
   "source": [
    "## Train Decision Tree model"
   ]
  },
  {
   "cell_type": "code",
   "execution_count": 18,
   "metadata": {
    "ExecuteTime": {
     "end_time": "2020-12-11T11:53:07.961652Z",
     "start_time": "2020-12-11T11:53:07.952131Z"
    }
   },
   "outputs": [],
   "source": [
    "from sklearn.tree import DecisionTreeClassifier"
   ]
  },
  {
   "cell_type": "code",
   "execution_count": 19,
   "metadata": {
    "ExecuteTime": {
     "end_time": "2020-12-11T11:53:20.451239Z",
     "start_time": "2020-12-11T11:53:07.963004Z"
    }
   },
   "outputs": [
    {
     "data": {
      "text/plain": [
       "DecisionTreeClassifier()"
      ]
     },
     "execution_count": 19,
     "metadata": {},
     "output_type": "execute_result"
    }
   ],
   "source": [
    "dtree = DecisionTreeClassifier()\n",
    "dtree.fit(x_train, y_train)"
   ]
  },
  {
   "cell_type": "markdown",
   "metadata": {},
   "source": [
    "##  Evaluate the model"
   ]
  },
  {
   "cell_type": "code",
   "execution_count": 20,
   "metadata": {
    "ExecuteTime": {
     "end_time": "2020-12-11T11:53:20.484944Z",
     "start_time": "2020-12-11T11:53:20.452566Z"
    }
   },
   "outputs": [],
   "source": [
    "predictions = dtree.predict(x_validation)"
   ]
  },
  {
   "cell_type": "code",
   "execution_count": 21,
   "metadata": {
    "ExecuteTime": {
     "end_time": "2020-12-11T11:53:43.361387Z",
     "start_time": "2020-12-11T11:53:43.307495Z"
    }
   },
   "outputs": [
    {
     "name": "stdout",
     "output_type": "stream",
     "text": [
      "              precision    recall  f1-score   support\n",
      "\n",
      "           0       0.91      0.91      0.91      1158\n",
      "           1       0.94      0.95      0.94      1339\n",
      "           2       0.87      0.85      0.86      1185\n",
      "           3       0.83      0.84      0.84      1258\n",
      "           4       0.87      0.88      0.87      1229\n",
      "           5       0.81      0.81      0.81      1081\n",
      "           6       0.90      0.90      0.90      1156\n",
      "           7       0.90      0.88      0.89      1231\n",
      "           8       0.82      0.82      0.82      1186\n",
      "           9       0.83      0.84      0.83      1177\n",
      "\n",
      "    accuracy                           0.87     12000\n",
      "   macro avg       0.87      0.87      0.87     12000\n",
      "weighted avg       0.87      0.87      0.87     12000\n",
      "\n",
      "---------\n",
      "[[1051    0   13   15   10   16   21    4   15   13]\n",
      " [   0 1266   14   12    1    9    3   11   13   10]\n",
      " [  12   18 1009   29   15   17   20   21   36    8]\n",
      " [  12   11   29 1060    8   56    4   18   41   19]\n",
      " [   9    6   15    6 1076   13   17   21   16   50]\n",
      " [  24    6   15   53   14  878   26    7   34   24]\n",
      " [  20    6   13    7   17   28 1040    6   15    4]\n",
      " [   4   11   27   25   14   10    4 1083   18   35]\n",
      " [  14   17   19   44   23   36   22    3  970   38]\n",
      " [  10    7   12   25   57   21    3   27   30  985]]\n"
     ]
    }
   ],
   "source": [
    "print(classification_report(y_validation,predictions))\n",
    "print('---------')\n",
    "print(confusion_matrix(y_validation,predictions))"
   ]
  },
  {
   "cell_type": "markdown",
   "metadata": {},
   "source": [
    "# Random Forest"
   ]
  },
  {
   "cell_type": "markdown",
   "metadata": {},
   "source": [
    "## Train Random Forests model"
   ]
  },
  {
   "cell_type": "code",
   "execution_count": 22,
   "metadata": {
    "ExecuteTime": {
     "end_time": "2020-12-11T11:53:48.770479Z",
     "start_time": "2020-12-11T11:53:48.736600Z"
    }
   },
   "outputs": [],
   "source": [
    "from sklearn.ensemble import RandomForestClassifier"
   ]
  },
  {
   "cell_type": "code",
   "execution_count": 23,
   "metadata": {
    "ExecuteTime": {
     "end_time": "2020-12-11T11:54:21.927614Z",
     "start_time": "2020-12-11T11:54:07.547940Z"
    }
   },
   "outputs": [
    {
     "data": {
      "text/plain": [
       "RandomForestClassifier(n_estimators=200, n_jobs=-1)"
      ]
     },
     "execution_count": 23,
     "metadata": {},
     "output_type": "execute_result"
    }
   ],
   "source": [
    "rfc = RandomForestClassifier(n_estimators=200,n_jobs=-1)\n",
    "rfc.fit(x_train, y_train)"
   ]
  },
  {
   "cell_type": "markdown",
   "metadata": {},
   "source": [
    "##  Evaluate the model"
   ]
  },
  {
   "cell_type": "code",
   "execution_count": 24,
   "metadata": {
    "ExecuteTime": {
     "end_time": "2020-12-11T11:54:34.219858Z",
     "start_time": "2020-12-11T11:54:33.880816Z"
    }
   },
   "outputs": [],
   "source": [
    "predictions = rfc.predict(x_validation)"
   ]
  },
  {
   "cell_type": "code",
   "execution_count": 25,
   "metadata": {
    "ExecuteTime": {
     "end_time": "2020-12-11T11:54:54.849519Z",
     "start_time": "2020-12-11T11:54:54.798161Z"
    }
   },
   "outputs": [
    {
     "name": "stdout",
     "output_type": "stream",
     "text": [
      "              precision    recall  f1-score   support\n",
      "\n",
      "           0       0.98      0.99      0.98      1158\n",
      "           1       0.99      0.98      0.99      1339\n",
      "           2       0.96      0.97      0.97      1185\n",
      "           3       0.97      0.95      0.96      1258\n",
      "           4       0.97      0.97      0.97      1229\n",
      "           5       0.97      0.96      0.97      1081\n",
      "           6       0.98      0.98      0.98      1156\n",
      "           7       0.97      0.96      0.97      1231\n",
      "           8       0.95      0.96      0.95      1186\n",
      "           9       0.95      0.96      0.95      1177\n",
      "\n",
      "    accuracy                           0.97     12000\n",
      "   macro avg       0.97      0.97      0.97     12000\n",
      "weighted avg       0.97      0.97      0.97     12000\n",
      "\n",
      "---------\n",
      "[[1143    0    1    0    1    2    6    0    5    0]\n",
      " [   0 1318    7    4    4    1    0    2    1    2]\n",
      " [   3    3 1150    1    5    0    5    6   12    0]\n",
      " [   0    0   16 1199    0   11    1   11   15    5]\n",
      " [   2    2    1    0 1189    0    6    3    1   25]\n",
      " [   5    3    1   11    0 1041    5    3    8    4]\n",
      " [   5    2    1    0    1    7 1134    0    6    0]\n",
      " [   2    2   16    0    9    0    0 1186    5   11]\n",
      " [   4    3    0    8    6    8    4    1 1140   12]\n",
      " [   2    2    2   14   10    4    0    8    9 1126]]\n"
     ]
    }
   ],
   "source": [
    "print(classification_report(y_validation,predictions))\n",
    "print('---------')\n",
    "print(confusion_matrix(y_validation,predictions))"
   ]
  },
  {
   "cell_type": "markdown",
   "metadata": {},
   "source": [
    "# Support Vector Machine (SVM)"
   ]
  },
  {
   "cell_type": "markdown",
   "metadata": {},
   "source": [
    "## Train SVM model"
   ]
  },
  {
   "cell_type": "code",
   "execution_count": 26,
   "metadata": {
    "ExecuteTime": {
     "end_time": "2020-12-11T11:57:47.985571Z",
     "start_time": "2020-12-11T11:57:47.979137Z"
    }
   },
   "outputs": [],
   "source": [
    "from sklearn.svm import SVC"
   ]
  },
  {
   "cell_type": "code",
   "execution_count": 27,
   "metadata": {
    "ExecuteTime": {
     "end_time": "2020-12-11T12:06:53.696252Z",
     "start_time": "2020-12-11T11:58:31.438414Z"
    }
   },
   "outputs": [
    {
     "data": {
      "text/plain": [
       "SVC()"
      ]
     },
     "execution_count": 27,
     "metadata": {},
     "output_type": "execute_result"
    }
   ],
   "source": [
    "svc = SVC()\n",
    "svc.fit(x_train, y_train)"
   ]
  },
  {
   "cell_type": "code",
   "execution_count": 28,
   "metadata": {
    "ExecuteTime": {
     "end_time": "2020-12-11T12:09:48.443496Z",
     "start_time": "2020-12-11T12:07:07.179826Z"
    }
   },
   "outputs": [],
   "source": [
    "predictions = svc.predict(x_validation)"
   ]
  },
  {
   "cell_type": "code",
   "execution_count": 30,
   "metadata": {
    "ExecuteTime": {
     "end_time": "2020-12-11T12:09:53.606442Z",
     "start_time": "2020-12-11T12:09:53.551705Z"
    }
   },
   "outputs": [
    {
     "name": "stdout",
     "output_type": "stream",
     "text": [
      "              precision    recall  f1-score   support\n",
      "\n",
      "           0       0.98      0.98      0.98      1158\n",
      "           1       0.98      0.99      0.98      1339\n",
      "           2       0.95      0.97      0.96      1185\n",
      "           3       0.96      0.95      0.96      1258\n",
      "           4       0.97      0.97      0.97      1229\n",
      "           5       0.96      0.96      0.96      1081\n",
      "           6       0.98      0.97      0.98      1156\n",
      "           7       0.94      0.97      0.95      1231\n",
      "           8       0.96      0.95      0.96      1186\n",
      "           9       0.96      0.95      0.95      1177\n",
      "\n",
      "    accuracy                           0.97     12000\n",
      "   macro avg       0.97      0.97      0.97     12000\n",
      "weighted avg       0.97      0.97      0.97     12000\n",
      "\n",
      "---------\n",
      "[[1140    0    3    0    1    4    9    0    1    0]\n",
      " [   0 1319    6    1    2    0    0    7    0    4]\n",
      " [   2    4 1152    4    2    0    2    7   10    2]\n",
      " [   0    2   16 1197    0    8    1   17   14    3]\n",
      " [   2    2    6    0 1187    1    5    7    0   19]\n",
      " [   4    2    2   19    2 1033    7    5    7    0]\n",
      " [   5    0    4    0    2    8 1127    7    3    0]\n",
      " [   2    4   11    2    7    0    0 1190    2   13]\n",
      " [   5    6    6   11    4   14    4    7 1126    3]\n",
      " [   0    3    7   10   12    3    0   23    5 1114]]\n"
     ]
    }
   ],
   "source": [
    "print(classification_report(y_validation,predictions))\n",
    "print('---------')\n",
    "print(confusion_matrix(y_validation,predictions))"
   ]
  },
  {
   "cell_type": "markdown",
   "metadata": {},
   "source": [
    "# Results"
   ]
  },
  {
   "cell_type": "markdown",
   "metadata": {},
   "source": [
    "Random Forest и SVC показали наилучшие результаты (97%). "
   ]
  },
  {
   "cell_type": "markdown",
   "metadata": {},
   "source": [
    "Задачу также ещё можно решить, например, методом кластеризации, для определния оптимального колличества кластеров можно использовать, например TSNE. Также модели можно улучшить с помощь PCA , определив максимальное колличество самых информативных компонент, которые будут отражать 90% дисперсии. "
   ]
  }
 ],
 "metadata": {
  "kernelspec": {
   "display_name": "Python 3",
   "language": "python",
   "name": "python3"
  },
  "language_info": {
   "codemirror_mode": {
    "name": "ipython",
    "version": 3
   },
   "file_extension": ".py",
   "mimetype": "text/x-python",
   "name": "python",
   "nbconvert_exporter": "python",
   "pygments_lexer": "ipython3",
   "version": "3.7.6"
  },
  "latex_envs": {
   "LaTeX_envs_menu_present": true,
   "autoclose": true,
   "autocomplete": true,
   "bibliofile": "biblio.bib",
   "cite_by": "apalike",
   "current_citInitial": 1,
   "eqLabelWithNumbers": true,
   "eqNumInitial": 1,
   "hotkeys": {
    "equation": "Ctrl-E",
    "itemize": "Ctrl-I"
   },
   "labels_anchors": false,
   "latex_user_defs": false,
   "report_style_numbering": false,
   "user_envs_cfg": false
  },
  "toc": {
   "base_numbering": 1,
   "nav_menu": {},
   "number_sections": true,
   "sideBar": true,
   "skip_h1_title": false,
   "title_cell": "Table of Contents",
   "title_sidebar": "Contents",
   "toc_cell": false,
   "toc_position": {},
   "toc_section_display": true,
   "toc_window_display": false
  },
  "varInspector": {
   "cols": {
    "lenName": 16,
    "lenType": 16,
    "lenVar": 40
   },
   "kernels_config": {
    "python": {
     "delete_cmd_postfix": "",
     "delete_cmd_prefix": "del ",
     "library": "var_list.py",
     "varRefreshCmd": "print(var_dic_list())"
    },
    "r": {
     "delete_cmd_postfix": ") ",
     "delete_cmd_prefix": "rm(",
     "library": "var_list.r",
     "varRefreshCmd": "cat(var_dic_list()) "
    }
   },
   "types_to_exclude": [
    "module",
    "function",
    "builtin_function_or_method",
    "instance",
    "_Feature"
   ],
   "window_display": false
  }
 },
 "nbformat": 4,
 "nbformat_minor": 4
}
